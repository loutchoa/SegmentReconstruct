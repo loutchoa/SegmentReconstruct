{
 "cells": [
  {
   "cell_type": "code",
   "execution_count": 170,
   "id": "08575c54-e10a-4d24-b8f9-35bcd7d72d72",
   "metadata": {},
   "outputs": [],
   "source": [
    "# in my own setting, this is pre-imported\n",
    "%matplotlib widget\n",
    "import numpy as np\n",
    "import matplotlib.pyplot as plt\n",
    "plt.rcParams['figure.figsize'] = [10, 5]\n",
    "import scipy.sparse as sp\n",
    "np.set_printoptions(linewidth=200, precision=5)\n",
    "n = 20"
   ]
  },
  {
   "cell_type": "code",
   "execution_count": 171,
   "id": "daa6e2e0-339e-4b04-b440-f08aab933b9d",
   "metadata": {},
   "outputs": [],
   "source": [
    "def smw_solver(a, b, d, V):\n",
    "    W = 1.0/V\n",
    "    Wd = W*d\n",
    "    Wa = W*a\n",
    "    # print(\"Wd = \", W*d)\n",
    "    # print(\"a^T W d = \", a @ Wd)\n",
    "    # print(\"1 + a^T W a = \", a @ Wa + 1)\n",
    "    ratio = ((b - a @ Wd)/(a @ Wa + 1))\n",
    "    # print(ratio)\n",
    "    return W*d + ratio * Wa"
   ]
  },
  {
   "cell_type": "code",
   "execution_count": 172,
   "id": "cdd58431-3c94-4952-b328-9e35d0da4104",
   "metadata": {},
   "outputs": [],
   "source": [
    "def naive_solver(a, b, d, V):\n",
    "    la = np.reshape(a, (-1, 1))\n",
    "    M = la @ la.T + np.diag(V)\n",
    "    return np.linalg.solve(M, b*a + d)"
   ]
  },
  {
   "cell_type": "code",
   "execution_count": 173,
   "id": "537f7ea5-d33c-4a19-9750-bbcc9712a6f8",
   "metadata": {},
   "outputs": [
    {
     "name": "stdout",
     "output_type": "stream",
     "text": [
      "[ 1.59284  1.10331 -1.15913  1.00418  0.6663  -0.56612 -0.66303 -0.48176  0.5111   0.30298  0.28735 -0.54992 -0.9861   0.74486 -0.32044 -0.01337  0.11784  0.13905 -1.3535   0.95671]\n",
      "[ 1.59284  1.10331 -1.15913  1.00418  0.6663  -0.56612 -0.66303 -0.48176  0.5111   0.30298  0.28735 -0.54992 -0.9861   0.74486 -0.32044 -0.01337  0.11784  0.13905 -1.3535   0.95671]\n"
     ]
    }
   ],
   "source": [
    "a = (np.random.rand(n) - 0.5)* 10 * np.array([0, 0, 0, 0, 1, 1, 1, 1, 1, 1, 0, 0, 0, 0, 1, 1, 1, 0, 0 ,0])\n",
    "d = (np.random.rand(n) - 0.5)* 10\n",
    "V = V = np.ones(n)*3.0\n",
    "V[6:15] += 2\n",
    "b = 0.32\n",
    "print(naive_solver(a, b, d, V))\n",
    "print(smw_solver(a, b, d, V))"
   ]
  },
  {
   "cell_type": "code",
   "execution_count": 174,
   "id": "23dd6fa5-b315-48e6-8562-82a36304e1d2",
   "metadata": {},
   "outputs": [
    {
     "name": "stdout",
     "output_type": "stream",
     "text": [
      "[0.33333 0.33333 0.33333 0.33333 0.33333 0.33333 0.2     0.2     0.2     0.2     0.2     0.2     0.2     0.2     0.2     0.33333 0.33333 0.33333 0.33333 0.33333]\n"
     ]
    }
   ],
   "source": [
    "W = 1/V\n",
    "print(W)"
   ]
  },
  {
   "cell_type": "code",
   "execution_count": 175,
   "id": "c70febef-5409-42d1-aea1-6ec84db68f57",
   "metadata": {},
   "outputs": [
    {
     "name": "stdout",
     "output_type": "stream",
     "text": [
      "7.675265422525664\n"
     ]
    }
   ],
   "source": [
    "print (a @ (W*d))"
   ]
  },
  {
   "cell_type": "code",
   "execution_count": 176,
   "id": "ded77eae-c162-40c6-ab2a-22c477858371",
   "metadata": {},
   "outputs": [],
   "source": [
    "def sp_smw_solver(a, b, d, V):\n",
    "    \"\"\"here a is a 1-row csr_matrix...\"\"\"\n",
    "    idx = a.indices\n",
    "    ad = a.data\n",
    "    W = 1/V\n",
    "    Wd = W * d\n",
    "    Wa = W[idx] * ad\n",
    "\n",
    "    # print(\"a.T Wd = \", ad @ Wd[idx])\n",
    "    # print(\"1 + a.T W a = \", 1 + ad @ Wa)\n",
    "    L = ((b - ad @ Wd[idx])/(1 + ad @ Wa))* Wa\n",
    "    \n",
    "    Wd[idx] += L\n",
    "    return Wd"
   ]
  },
  {
   "cell_type": "code",
   "execution_count": 177,
   "id": "72c637f1-1ee4-4d89-9f32-231c02643528",
   "metadata": {},
   "outputs": [
    {
     "name": "stdout",
     "output_type": "stream",
     "text": [
      "[ 4  5  6  7  8  9 14 15 16]\n"
     ]
    }
   ],
   "source": [
    "spa = sp.csr_matrix(a)\n",
    "print(spa.indices)"
   ]
  },
  {
   "cell_type": "code",
   "execution_count": 178,
   "id": "38f208b0-f034-4f00-a877-96b342c3c0a7",
   "metadata": {},
   "outputs": [
    {
     "data": {
      "text/plain": [
       "1.412064909445121e-15"
      ]
     },
     "execution_count": 178,
     "metadata": {},
     "output_type": "execute_result"
    }
   ],
   "source": [
    "np.abs(sp_smw_solver(spa, b, d, V) - naive_solver(a, b, d, V)).sum()"
   ]
  },
  {
   "cell_type": "code",
   "execution_count": 179,
   "id": "b39b7e95-0d3e-4aa9-b30e-6558f1637ead",
   "metadata": {},
   "outputs": [
    {
     "name": "stdout",
     "output_type": "stream",
     "text": [
      "[[ 0.       0.       0.       0.      -4.86725  2.4542  -4.81585  1.82589  2.80994  4.32394  0.       0.       0.       0.      -1.18385  0.3735  -1.30271  0.       0.       0.     ]]\n"
     ]
    }
   ],
   "source": [
    "print(spa.todense())"
   ]
  },
  {
   "cell_type": "code",
   "execution_count": 180,
   "id": "4c66ae4e-e65f-45eb-99a0-d5afc9f0e729",
   "metadata": {},
   "outputs": [
    {
     "name": "stdout",
     "output_type": "stream",
     "text": [
      "residual error between the two solvers =  0.0\n"
     ]
    }
   ],
   "source": [
    "print(\"residual error between the two solvers = \", np.abs(smw_solver(a, b, d, V) - sp_smw_solver(spa, b, d, V)).sum())"
   ]
  },
  {
   "cell_type": "code",
   "execution_count": null,
   "id": "74604144-89b6-4d88-8184-ea39129e1654",
   "metadata": {},
   "outputs": [],
   "source": []
  }
 ],
 "metadata": {
  "kernelspec": {
   "display_name": "Python 3 (ipykernel)",
   "language": "python",
   "name": "python3"
  },
  "language_info": {
   "codemirror_mode": {
    "name": "ipython",
    "version": 3
   },
   "file_extension": ".py",
   "mimetype": "text/x-python",
   "name": "python",
   "nbconvert_exporter": "python",
   "pygments_lexer": "ipython3",
   "version": "3.9.7"
  }
 },
 "nbformat": 4,
 "nbformat_minor": 5
}
